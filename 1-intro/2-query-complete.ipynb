{
 "cells": [
  {
   "cell_type": "markdown",
   "metadata": {},
   "source": [
    "# Time to Build"
   ]
  },
  {
   "cell_type": "markdown",
   "metadata": {},
   "source": [
    "## Connect to Weaviate"
   ]
  },
  {
   "cell_type": "code",
   "execution_count": 2,
   "metadata": {},
   "outputs": [
    {
     "data": {
      "text/plain": [
       "True"
      ]
     },
     "execution_count": 2,
     "metadata": {},
     "output_type": "execute_result"
    }
   ],
   "source": [
    "import weaviate, os\n",
    "\n",
    "# Connect with Weaviate Embedded\n",
    "# client = weaviate.connect_to_embedded(\n",
    "#     version=\"1.23.6\",\n",
    "#     headers={\n",
    "#         \"X-OpenAI-Api-Key\": os.environ['OPENAI_API_KEY'], # Replace with your inference API key\n",
    "#     })\n",
    "\n",
    "# Connect to the local instance deployed with Docker Compose\n",
    "client = weaviate.connect_to_local(\n",
    "    headers={\n",
    "        \"X-OpenAI-Api-Key\": os.environ['OPENAI_API_KEY'], # Replace with your inference API key\n",
    "    }\n",
    ")\n",
    "\n",
    "client.is_ready()"
   ]
  },
  {
   "cell_type": "markdown",
   "metadata": {},
   "source": [
    "## Vector search\n",
    "[Docs - near_text](https://weaviate.io/developers/weaviate/search/similarity#an-input-medium)"
   ]
  },
  {
   "cell_type": "code",
   "execution_count": 3,
   "metadata": {},
   "outputs": [
    {
     "name": "stdout",
     "output_type": "stream",
     "text": [
      "{'question': 'An adorable wind instrument', 'value': 300.0, 'airDate': '2001-01-01', 'answer': 'Cute flute', 'round': 'Jeopardy!', 'category': 'RHYME TIME'}\n",
      "{'question': \"In this type of crab, the male has a large claw & waves it like a violinist's bow\", 'value': 400.0, 'answer': 'Fiddler crab', 'airDate': '1993-11-17', 'round': 'Jeopardy!', 'category': 'ANIMALS'}\n",
      "{'question': 'This noun from the Italian for \"skilled\" is often applied to top musicians', 'value': 1000.0, 'airDate': '1998-05-11', 'answer': 'Virtuoso', 'round': 'Double Jeopardy!', 'category': 'WORD ORIGINS'}\n",
      "{'round': 'Double Jeopardy!', 'value': 600.0, 'airDate': '1998-02-11', 'answer': 'The Magic Flute', 'question': 'This Mozart opera is set in part in the temple of Isis in Egypt', 'category': 'OPERA'}\n",
      "{'round': 'Double Jeopardy!', 'value': 400.0, 'airDate': '2003-05-08', 'answer': 'Rene Magritte', 'question': 'In this Belgian surrealist\\'s 1928 work \"Threatening Weather\", the clouds have the shapes of a tuba, a chair & a torso', 'category': 'ART & ARTISTS'}\n"
     ]
    }
   ],
   "source": [
    "questions = client.collections.get(\"Questions\")\n",
    "\n",
    "response = questions.query.near_text(\n",
    "    query=\"musical instruments\",\n",
    "    limit=5\n",
    ")\n",
    "\n",
    "for item in response.objects:\n",
    "    print(item.properties)"
   ]
  },
  {
   "cell_type": "markdown",
   "metadata": {},
   "source": [
    "## Search with filters\n",
    "[Docs - Filters](https://weaviate.io/developers/weaviate/search/filters)"
   ]
  },
  {
   "cell_type": "markdown",
   "metadata": {},
   "source": []
  },
  {
   "cell_type": "code",
   "execution_count": 5,
   "metadata": {},
   "outputs": [
    {
     "name": "stdout",
     "output_type": "stream",
     "text": [
      "{'question': 'This noun from the Italian for \"skilled\" is often applied to top musicians', 'value': 1000.0, 'airDate': '1998-05-11', 'answer': 'Virtuoso', 'round': 'Double Jeopardy!', 'category': 'WORD ORIGINS'}\n",
      "{'question': 'This Mozart opera is set in part in the temple of Isis in Egypt', 'value': 600.0, 'airDate': '1998-02-11', 'answer': 'The Magic Flute', 'round': 'Double Jeopardy!', 'category': 'OPERA'}\n",
      "{'question': 'Learn fiddle & gee-tar at the Blair school of music of this university--it is in Nashville, after all', 'value': 800.0, 'answer': 'Vanderbilt', 'airDate': '2011-07-27', 'round': 'Double Jeopardy!', 'category': 'COLLEGES & UNIVERSITIES'}\n",
      "{'round': 'Jeopardy!', 'value': 800.0, 'airDate': '2003-09-10', 'answer': 'The Little Drummer Girl', 'question': 'An actress is recruited to infiltrate a terrorist group in this John le Carre bestseller -- pa rum pum pum pum', 'category': 'BOOKS & AUTHORS'}\n",
      "{'round': 'Double Jeopardy!', 'value': 1600.0, 'airDate': '2003-02-25', 'answer': 'Giuseppe Verdi', 'question': 'The story & the music of the ballet \"Revenge\" come from this composer\\'s opera \"Il Trovatore\"', 'category': 'BALLET'}\n"
     ]
    }
   ],
   "source": [
    "import weaviate.classes.query as wq\n",
    "questions = client.collections.get(\"Questions\")\n",
    "\n",
    "response = questions.query.near_text(\n",
    "    query=\"musical instruments\",\n",
    "    limit=5,\n",
    "    filters=wq.Filter.by_property(\"value\").greater_than(500)\n",
    ")\n",
    "\n",
    "for item in response.objects:\n",
    "    print(item.properties)"
   ]
  },
  {
   "cell_type": "markdown",
   "metadata": {},
   "source": [
    "## Hybrid search\n",
    "[Docs - hybrid](https://weaviate.io/developers/weaviate/search/hybrid)"
   ]
  },
  {
   "cell_type": "code",
   "execution_count": null,
   "metadata": {},
   "outputs": [],
   "source": [
    "questions = client.collections.get(\"Questions\")\n",
    "\n",
    "response = questions.query.hybrid(\n",
    "    query=\"musical instruments\",\n",
    "    alpha=0.7,\n",
    "    limit=5,\n",
    ")\n",
    "\n",
    "for item in response.objects:\n",
    "    print(item.properties)"
   ]
  },
  {
   "cell_type": "markdown",
   "metadata": {},
   "source": [
    "## Retrieval Augmented Generation!!!\n",
    "[Docs - RAG](https://weaviate.io/developers/weaviate/search/generative)"
   ]
  },
  {
   "cell_type": "code",
   "execution_count": null,
   "metadata": {},
   "outputs": [],
   "source": [
    "questions = client.collections.get(\"Questions\")\n",
    "\n",
    "response = questions.generate.near_text(\n",
    "    query=\"musical instruments\",\n",
    "    limit=4,\n",
    "    single_prompt=\"Write a short tweet about: {question}\"\n",
    ")\n",
    "\n",
    "for item in response.objects:\n",
    "    print(item.properties)\n",
    "    print(item.generated)\n"
   ]
  },
  {
   "cell_type": "code",
   "execution_count": null,
   "metadata": {},
   "outputs": [],
   "source": [
    "questions = client.collections.get(\"Questions\")\n",
    "\n",
    "response = questions.generate.near_text(\n",
    "    query=\"musical instruments\",\n",
    "    limit=4,\n",
    "    grouped_task=\"Explain what this content is about.\"\n",
    ")\n",
    "\n",
    "print (response.generated)"
   ]
  }
 ],
 "metadata": {
  "kernelspec": {
   "display_name": "Python 3",
   "language": "python",
   "name": "python3"
  },
  "language_info": {
   "codemirror_mode": {
    "name": "ipython",
    "version": 3
   },
   "file_extension": ".py",
   "mimetype": "text/x-python",
   "name": "python",
   "nbconvert_exporter": "python",
   "pygments_lexer": "ipython3",
   "version": "3.11.7"
  }
 },
 "nbformat": 4,
 "nbformat_minor": 2
}
