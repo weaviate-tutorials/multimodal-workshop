{
 "cells": [
  {
   "cell_type": "markdown",
   "metadata": {},
   "source": [
    "# Time to Build"
   ]
  },
  {
   "cell_type": "markdown",
   "metadata": {},
   "source": [
    "## Connect to Weaviate"
   ]
  },
  {
   "cell_type": "code",
   "execution_count": null,
   "metadata": {},
   "outputs": [],
   "source": [
    "import weaviate, os\n",
    "\n",
    "# Connect with Weaviate Embedded\n",
    "# client = weaviate.connect_to_embedded(\n",
    "#     version=\"1.23.7\",\n",
    "#     headers={\n",
    "#         \"X-OpenAI-Api-Key\": os.environ[\"OPENAI_API_KEY\"], # Replace with your inference API key\n",
    "#     })\n",
    "\n",
    "# Connect to a cloud instance of Weaviate (with WCS)\n",
    "# client = weaviate.connect_to_wcs(\n",
    "#     cluster_url=os.getenv(\"WCS_MM_DEMO_URL\"),\n",
    "#     auth_credentials=weaviate.auth.AuthApiKey(os.getenv(\"WCS_MM_DEMO_KEY\")),\n",
    "#     headers={\n",
    "#         \"X-OpenAI-Api-Key\": os.getenv(\"OPENAI_API_KEY\"), # Replace with your inference API key\n",
    "#         \"X-Cohere-Api-Key\": os.getenv(\"COHERE_API_KEY\"), # Replace with your inference API key\n",
    "#     }\n",
    "# )\n",
    "\n",
    "# Connect to the local instance deployed with Docker Compose\n",
    "client = weaviate.connect_to_local(\n",
    "    headers={\n",
    "        \"X-OpenAI-Api-Key\": os.environ[\"OPENAI_API_KEY\"], # Replace with your inference API key\n",
    "    }\n",
    ")\n",
    "\n",
    "client.is_ready()"
   ]
  },
  {
   "cell_type": "markdown",
   "metadata": {},
   "source": [
    "## Vector search\n",
    "[Docs - near_text](https://weaviate.io/developers/weaviate/search/similarity#an-input-medium)"
   ]
  },
  {
   "cell_type": "code",
   "execution_count": null,
   "metadata": {},
   "outputs": [],
   "source": [
    "questions = client.collections.get(\"Questions\")\n",
    "\n",
    "response = questions.query.near_text(\n",
    "    query=\"musical instruments\",\n",
    "    limit=5\n",
    ")\n",
    "\n",
    "for item in response.objects:\n",
    "    print(item.properties)"
   ]
  },
  {
   "cell_type": "markdown",
   "metadata": {},
   "source": [
    "## Search with filters\n",
    "[Docs - Filters](https://weaviate.io/developers/weaviate/search/filters)"
   ]
  },
  {
   "cell_type": "code",
   "execution_count": null,
   "metadata": {},
   "outputs": [],
   "source": [
    "import weaviate.classes.query as wq\n",
    "questions = client.collections.get(\"Questions\")\n",
    "\n",
    "response = questions.query.near_text(\n",
    "    query=\"musical instruments\",\n",
    "    limit=5,\n",
    "    filters=wq.Filter.by_property(\"value\").greater_than(500)\n",
    ")\n",
    "\n",
    "for item in response.objects:\n",
    "    print(item.properties)"
   ]
  },
  {
   "cell_type": "markdown",
   "metadata": {},
   "source": [
    "## Hybrid search\n",
    "[Docs - hybrid](https://weaviate.io/developers/weaviate/search/hybrid)"
   ]
  },
  {
   "cell_type": "code",
   "execution_count": null,
   "metadata": {},
   "outputs": [],
   "source": [
    "questions = client.collections.get(\"Questions\")\n",
    "\n",
    "response = questions.query.hybrid(\n",
    "    query=\"musical instruments\",\n",
    "    alpha=0.7,\n",
    "    limit=5,\n",
    ")\n",
    "\n",
    "for item in response.objects:\n",
    "    print(item.properties)"
   ]
  },
  {
   "cell_type": "markdown",
   "metadata": {},
   "source": [
    "## Retrieval Augmented Generation!!!\n",
    "[Docs - RAG](https://weaviate.io/developers/weaviate/search/generative)"
   ]
  },
  {
   "cell_type": "code",
   "execution_count": null,
   "metadata": {},
   "outputs": [],
   "source": [
    "questions = client.collections.get(\"Questions\")\n",
    "\n",
    "response = questions.generate.near_text(\n",
    "    query=\"musical instruments\",\n",
    "    limit=4,\n",
    "    single_prompt=\"Write a short tweet about: {question}\"\n",
    ")\n",
    "\n",
    "for item in response.objects:\n",
    "    print(item.properties)\n",
    "    print(item.generated)\n"
   ]
  },
  {
   "cell_type": "code",
   "execution_count": null,
   "metadata": {},
   "outputs": [],
   "source": [
    "questions = client.collections.get(\"Questions\")\n",
    "\n",
    "response = questions.generate.near_text(\n",
    "    query=\"musical instruments\",\n",
    "    limit=4,\n",
    "    grouped_task=\"Explain what this content is about.\"\n",
    ")\n",
    "\n",
    "print (response.generated)"
   ]
  }
 ],
 "metadata": {
  "kernelspec": {
   "display_name": "Python 3",
   "language": "python",
   "name": "python3"
  },
  "language_info": {
   "codemirror_mode": {
    "name": "ipython",
    "version": 3
   },
   "file_extension": ".py",
   "mimetype": "text/x-python",
   "name": "python",
   "nbconvert_exporter": "python",
   "pygments_lexer": "ipython3",
   "version": "3.11.7"
  }
 },
 "nbformat": 4,
 "nbformat_minor": 2
}
